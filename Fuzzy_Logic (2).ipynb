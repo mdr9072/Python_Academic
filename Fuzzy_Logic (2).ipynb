{
 "cells": [
  {
   "cell_type": "markdown",
   "id": "24c4a7a6",
   "metadata": {},
   "source": [
    "# Fuzzy logic task"
   ]
  },
  {
   "cell_type": "markdown",
   "id": "79e404b2",
   "metadata": {},
   "source": [
    "Define a fuzzy controller for a distance to stop system for cars.\n",
    "\n",
    "Also define the functions for each input, e. g. $$f_{light}(x) = min(2x, 1)$$\n",
    "Write everything with Python code and visualize your results!\n",
    "You can alternatively visualize it on paper.\n",
    "Use center of gravity to calculate the final result.\n",
    "\n",
    "The following information is provided:"
   ]
  },
  {
   "cell_type": "markdown",
   "id": "864c5e25",
   "metadata": {},
   "source": [
    "## Inputs"
   ]
  },
  {
   "cell_type": "markdown",
   "id": "707d9299",
   "metadata": {},
   "source": [
    "### 1. Speed of vehicle\n",
    "#### Set of terms\n",
    "- slow\n",
    "- medium\n",
    "- fast\n",
    "\n",
    "\n",
    "The terms are in range [0, 100]"
   ]
  },
  {
   "cell_type": "markdown",
   "id": "6d6df638",
   "metadata": {},
   "source": [
    "### 2. (Own) Car weight\n",
    "\n",
    "#### Set of terms\n",
    "- light\n",
    "- medium\n",
    "- heavy\n",
    "\n",
    "The terms are in range [0, 100]"
   ]
  },
  {
   "cell_type": "markdown",
   "id": "7a84c8a8",
   "metadata": {},
   "source": [
    "## Output\n",
    "\n",
    "## Distance to full stop\n",
    "\n",
    "#### Set of terms\n",
    "- very low\n",
    "- low\n",
    "- medium\n",
    "- high\n",
    "- very high \n",
    "\n",
    "The terms are in range [0, 3] ($\\times$10meters)"
   ]
  },
  {
   "cell_type": "markdown",
   "id": "afc47a5e",
   "metadata": {},
   "source": [
    "## Inference rules"
   ]
  },
  {
   "cell_type": "markdown",
   "id": "f1e6da6c",
   "metadata": {},
   "source": [
    "| Id \t| Speed \t| Car weight \t| Distance \t|\n",
    "|:---:\t|:---:\t|:---:\t|:---:\t|\n",
    "| 1 \t| slow \t| light \t| very low \t|\n",
    "| 2 \t| slow \t| medium \t| low \t|\n",
    "| 3 \t| slow \t| heavy \t| medium \t|\n",
    "| 4 \t| medium \t| light \t| low \t|\n",
    "| 5 \t| medium \t| medium \t| medium \t|\n",
    "| 6 \t| medium \t| heavy \t| high \t|\n",
    "| 7 \t| fast \t| light \t| medium \t|\n",
    "| 8 \t| fast \t| medium \t| high \t|\n",
    "| 9 \t| fast\t| heavy \t| very high \t|"
   ]
  },
  {
   "cell_type": "markdown",
   "id": "e2a32393",
   "metadata": {},
   "source": [
    "## Question"
   ]
  },
  {
   "cell_type": "markdown",
   "id": "43fcaba0",
   "metadata": {},
   "source": [
    "Calculate the distance for\n",
    "\n",
    "1) Speed = 30\n",
    "\n",
    "2) Car weight = 60"
   ]
  },
  {
   "cell_type": "markdown",
   "id": "0c39464d",
   "metadata": {},
   "source": [
    "# Task 2 (Research)"
   ]
  },
  {
   "cell_type": "markdown",
   "id": "30706b53",
   "metadata": {},
   "source": [
    "Try out NumPy: [NumPy](https://numpy.org/) [Quickstart](https://numpy.org/devdocs/user/quickstart.html)\n",
    "\n",
    "Try out Pandas: [Pandas](https://pandas.pydata.org/) [Quickstart](https://pandas.pydata.org/docs/getting_started/intro_tutorials/index.html)\n",
    "\n",
    "Try out SKlearn: [Scikit-learn](https://scikit-learn.org/stable/) [Quickstart](https://scikit-learn.org/stable/getting_started.html)"
   ]
  },
  {
   "cell_type": "markdown",
   "id": "a61d8697",
   "metadata": {},
   "source": [
    "We will use the packages mentioned above in the next practical sessions. Familiarize yourself with the mentioned packages."
   ]
  },
  {
   "cell_type": "code",
   "execution_count": null,
   "id": "d5c346bc",
   "metadata": {},
   "outputs": [],
   "source": []
  }
 ],
 "metadata": {
  "kernelspec": {
   "display_name": "Python 3 (ipykernel)",
   "language": "python",
   "name": "python3"
  },
  "language_info": {
   "codemirror_mode": {
    "name": "ipython",
    "version": 3
   },
   "file_extension": ".py",
   "mimetype": "text/x-python",
   "name": "python",
   "nbconvert_exporter": "python",
   "pygments_lexer": "ipython3",
   "version": "3.8.8"
  }
 },
 "nbformat": 4,
 "nbformat_minor": 5
}
