{
 "cells": [
  {
   "cell_type": "markdown",
   "id": "83d20994",
   "metadata": {},
   "source": [
    "# k-Nearest Neighbor"
   ]
  },
  {
   "cell_type": "raw",
   "id": "01accbd5",
   "metadata": {},
   "source": [
    "1) Implement the k-Nearest Neighbor algorithm with Python!\n",
    "2) It should be applicable for classification and regression tasks!\n",
    "3) Extend your algorithm with a weighting function (see the lecture slides)"
   ]
  },
  {
   "cell_type": "code",
   "execution_count": null,
   "id": "b1b78408",
   "metadata": {},
   "outputs": [],
   "source": [
    "import numpy as np"
   ]
  },
  {
   "cell_type": "code",
   "execution_count": 5,
   "id": "deb6a6bf",
   "metadata": {},
   "outputs": [
    {
     "name": "stdout",
     "output_type": "stream",
     "text": [
      "we expected 1, got 1.0\n",
      "we expected regression value 1, got 0.5\n"
     ]
    }
   ],
   "source": [
    "# YOUR CODE HERE\n",
    "\n",
    "dataset = [\n",
    "    [2.7,2.55053,0],\n",
    "    [1.678,2.36212,0],\n",
    "    [3.39,4.40029,0],\n",
    "    [1.389,1.8507,0],\n",
    "    [3.0640,3.00533,0],\n",
    "    [7.627,2.759235,1],\n",
    "    [5.33,2.08875,1],\n",
    "    [6.9225,1.77367,1],\n",
    "    [8.67,-0.24255,1],\n",
    "    [7.673756,3.5081,1]\n",
    "]\n",
    "\n",
    "from math import sqrt\n",
    "import numpy as np\n",
    "\n",
    "def Euclidean_dist(row1, row2):\n",
    "    dist = 0\n",
    "    for i in range(len(row1)-1):\n",
    "        dist += (row1 [i]-row2[i])**2\n",
    "    return sqrt(dist)\n",
    "\n",
    "# train = the row from the dataset, test_row = will be provided, num = value of k, i is the row data from the dataset\n",
    "def get_neighbors(train, test_row, num):\n",
    "    dist = list()\n",
    "    data = []\n",
    "    for i in train:\n",
    "        distance = Euclidean_dist(test_row, i)\n",
    "        dist.append(distance)\n",
    "        data.append(i)\n",
    "    dist = np.array(dist)\n",
    "    data = np.array(data)\n",
    "    index_dist = dist.argsort() #searching for minimum index distance\n",
    "    data = data[index_dist] #returns index of the array incresing order \n",
    "    neighbors = data[:num]\n",
    "    return neighbors\n",
    "\n",
    "def predict_classification(train, test_row, num):\n",
    "    neighbors = get_neighbors(train, test_row, num)\n",
    "    classes = []\n",
    "    for i in neighbors:\n",
    "        classes.append(i[-1]) #i is the each row of the dataset of the neighbors fetched based on distance, and -1 is the last columb\n",
    "        prediction = max(classes, key = classes.count)\n",
    "        return prediction\n",
    "    \n",
    "def predict_regression(train, test_row, num):\n",
    "    neighbors = get_neighbors(train, test_row, num)\n",
    "    classes = []\n",
    "    for i in train:\n",
    "        classes.append(i[-1])\n",
    "    sum = np.sum(classes)\n",
    "    return sum/len(classes)\n",
    "\n",
    "test = [6.9225,1.9885,1]    \n",
    "prediction = predict_classification(dataset, test, 4)\n",
    "print('we expected {}, got {}'.format(test[-1], prediction))\n",
    "\n",
    "test = [6.9225,1.9885,1]    \n",
    "prediction = predict_regression(dataset, test, 4)\n",
    "print('we expected regression value {}, got {}'.format(test[-1], prediction))\n",
    "\n"
   ]
  },
  {
   "cell_type": "markdown",
   "id": "3de8f1a5",
   "metadata": {},
   "source": [
    "## Compare the results with the sklearn kNN algorithm"
   ]
  },
  {
   "cell_type": "code",
   "execution_count": 6,
   "id": "76cd6b19",
   "metadata": {},
   "outputs": [],
   "source": [
    "# Make your code work with the following inputs:\n",
    "# Use this data as your reference data points and labels\n",
    "\n",
    "# Classification data\n",
    "cl_X = np.arange(0, 9).reshape(9,1)\n",
    "cl_y = np.array([0, 0, 0, 1, 1, 1, 2, 2, 2])\n",
    "# print('Classification input:\\n', X, '\\tShape:', cl_X.shape)\n",
    "# print('Classification labels:\\n', y, '\\tShape:', cl_y.shape)\n",
    "\n",
    "\n",
    "# Regression data\n",
    "r_X = np.array([[1, 2], [2, 4], [3, 6], [4, 8], [5, 10]])\n",
    "r_y = np.array([1, 2, 3, 4, 5])\n",
    "# print('Regression input:\\n', r_X, '\\tShape:', r_X.shape)\n",
    "# print('Regression labels:\\n', r_y, '\\tShape:', r_y.shape)\n",
    "\n",
    "\n",
    "# Use the following list to test your code for classification\n",
    "cl_X_test = np.array([[2.1], [5.2], [7.2]])\n",
    "\n",
    "r_X_test = np.array([[2.1, 5.1], [2.6, 6.2]])"
   ]
  },
  {
   "cell_type": "code",
   "execution_count": 7,
   "id": "f76d236e",
   "metadata": {},
   "outputs": [],
   "source": [
    "# classification (dont forget the weighting function)\n",
    "\n",
    "# yours\n",
    "\n",
    "# sklearn comparison"
   ]
  },
  {
   "cell_type": "code",
   "execution_count": 8,
   "id": "1c588159",
   "metadata": {},
   "outputs": [],
   "source": [
    "# regression (dont forget the weighting function)\n",
    "\n",
    "# yours\n",
    "\n",
    "# sklearn comparison"
   ]
  },
  {
   "cell_type": "code",
   "execution_count": 7,
   "id": "947966cd",
   "metadata": {},
   "outputs": [
    {
     "name": "stdout",
     "output_type": "stream",
     "text": [
      "we expected [7.2], got 1.0\n",
      "we expected regression value [2.6 6.2], got 0.5\n"
     ]
    }
   ],
   "source": [
    "from math import sqrt\n",
    "import numpy as np\n",
    "\n",
    "def Euclidean_dist(row1, row2):\n",
    "    dist = 0\n",
    "    for i in range(len(row1)-1):\n",
    "        dist += (row1 [i]-row2[i])**2\n",
    "    return sqrt(dist)\n",
    "\n",
    "# train = the row from the dataset, test_row = will be provided, num = value of k, i is the row data from the dataset\n",
    "def get_neighbors(train, test_row, num):\n",
    "    dist = list()\n",
    "    data = []\n",
    "    for i in train:\n",
    "        distance = Euclidean_dist(test_row, i)\n",
    "        dist.append(distance)\n",
    "        data.append(i)\n",
    "    dist = np.array(dist)\n",
    "    data = np.array(data)\n",
    "    index_dist = dist.argsort() #searching for minimum index distance\n",
    "    data = data[index_dist] #returns index of the array incresing order \n",
    "    neighbors = data[:num]\n",
    "    return neighbors\n",
    "\n",
    "def predict_classification(train, test_row, num):\n",
    "    neighbors = get_neighbors(train, test_row, num)\n",
    "    classes = []\n",
    "    for i in neighbors:\n",
    "        classes.append(i[-1]) #i is the each row of the dataset of the neighbors fetched based on distance, and -1 is the last columb\n",
    "        prediction = max(classes, key = classes.count)\n",
    "        return prediction\n",
    "    \n",
    "def predict_regression(train, test_row, num):\n",
    "    neighbors = get_neighbors(train, test_row, num)\n",
    "    classes = []\n",
    "    for i in train:\n",
    "        classes.append(i[-1])\n",
    "    sum = np.sum(classes)\n",
    "    return sum/len(classes)\n",
    "\n",
    "\n",
    "prediction = predict_classification(dataset, test, 4)\n",
    "print('we expected {}, got {}'.format(cl_X_test  [-1], prediction))\n",
    "\n",
    "test = [6.9225,1.9885,1]    \n",
    "prediction = predict_regression(dataset, test, 4)\n",
    "print('we expected regression value {}, got {}'.format(r_X_test  [-1], prediction))"
   ]
  }
 ],
 "metadata": {
  "kernelspec": {
   "display_name": "Python 3 (ipykernel)",
   "language": "python",
   "name": "python3"
  },
  "language_info": {
   "codemirror_mode": {
    "name": "ipython",
    "version": 3
   },
   "file_extension": ".py",
   "mimetype": "text/x-python",
   "name": "python",
   "nbconvert_exporter": "python",
   "pygments_lexer": "ipython3",
   "version": "3.10.6"
  }
 },
 "nbformat": 4,
 "nbformat_minor": 5
}
