{
 "cells": [
  {
   "attachments": {},
   "cell_type": "markdown",
   "id": "a8bce309",
   "metadata": {},
   "source": [
    "# Numpy, Pandas, Scikit-Learn"
   ]
  },
  {
   "attachments": {},
   "cell_type": "markdown",
   "id": "b93fc884",
   "metadata": {},
   "source": [
    "## NumPy: [NumPy](https://numpy.org/) [Quickstart](https://numpy.org/devdocs/user/quickstart.html)"
   ]
  },
  {
   "attachments": {},
   "cell_type": "markdown",
   "id": "0f224258",
   "metadata": {},
   "source": [
    "From the last practicals -> Go through the Quickstart and learn the basic commands of numpy. Why do you think that we should use this for further machine learning tasks?"
   ]
  },
  {
   "attachments": {},
   "cell_type": "markdown",
   "id": "2a1feb63",
   "metadata": {},
   "source": [
    "### Some more NumPy tasks"
   ]
  },
  {
   "cell_type": "code",
   "execution_count": 71,
   "id": "cef36e75",
   "metadata": {},
   "outputs": [],
   "source": [
    "import numpy as np"
   ]
  },
  {
   "attachments": {},
   "cell_type": "markdown",
   "id": "bc38b321",
   "metadata": {},
   "source": [
    "#### Loops"
   ]
  },
  {
   "cell_type": "code",
   "execution_count": null,
   "id": "6a575764",
   "metadata": {},
   "outputs": [],
   "source": [
    "# use numpy for loops, e. g. how can you loop floating point numbers in Python e. g. (0.1, 0.2, 0.3, 0.4, ..., 1).\n",
    "# Of course, there are solutions to do that but try it out with numpy arange.\n",
    "\n",
    "\n",
    "# 1) Code the pythonic way for looping floating point numbers: [0.1, 0.2, 0.3, 0.4, ..., 1]\n",
    "\n",
    "import array as arr\n",
    "\n",
    "a = arr.array('d', [])\n",
    "for i in range(10):\n",
    "    a.insert(i, (i+1)/10)\n",
    "\n",
    "print(a)\n",
    "\n",
    "# 2) Code the Numpy way:\n",
    "\n",
    "a = np.arange(.1,1.1,.1)\n",
    "print(a)\n",
    "\n",
    "# This applies for more than only this example. But what do you find more readable?\n",
    "'''\n",
    "Ans:\n",
    "Numpy is more readable as it clearly indicates for 'arange' syntax if there is three parantheses,\n",
    "first one indicates start, second one indicates stop, and third one indicates steps.\n",
    "'''"
   ]
  },
  {
   "attachments": {},
   "cell_type": "markdown",
   "id": "fda4a1fc",
   "metadata": {},
   "source": [
    "#### List operations"
   ]
  },
  {
   "cell_type": "code",
   "execution_count": null,
   "id": "5d053961",
   "metadata": {},
   "outputs": [],
   "source": [
    "# Define the list with name _list in pythonic way and numpy way\n",
    "_list = [[1, 2], [3, 4], [5, 6], [7, 8], [9, 10]]\n",
    "\n",
    "# 1) pythonic way\n",
    "\n",
    "_list = []\n",
    "n = 1\n",
    "for i in range(5):\n",
    "    rowList = []\n",
    "    for j in range(2):\n",
    "            rowList.append(n)\n",
    "            n += 1\n",
    "    _list.append(rowList)\n",
    "print(_list)\n",
    "\n",
    "# 2) Numpy way\n",
    "\n",
    "_list = np.arange(1,11).reshape(5,2)\n",
    "print(_list)\n"
   ]
  },
  {
   "attachments": {},
   "cell_type": "markdown",
   "id": "9cc90d1c",
   "metadata": {},
   "source": [
    "#### Matrix multiplication"
   ]
  },
  {
   "cell_type": "code",
   "execution_count": null,
   "id": "26a35056",
   "metadata": {},
   "outputs": [],
   "source": [
    "# Define the pythonic way for the following numpy expressions\n",
    "\n",
    "#### Task 1\n",
    "_list = [[2.1, 3.5, 7.2], [4.5, 6.6, 7.7]]\n",
    "# 1) Numpy way\n",
    "\n",
    "_list = np.array([[2.1, 3.5, 7.2],[4.5, 6.6, 7.7]])\n",
    "print(_list)\n",
    "\n",
    "# Numpy transpose\n",
    "_np_list = np.array(_list).T\n",
    "print('Numpy transpose', _np_list)\n",
    "\n",
    "# 2) Pythonic way for numpy transpose\n",
    "\n",
    "result = [[_list[j][i] for j in range(len(_list))] for i in range(len(_list[0]))]\n",
    "\n",
    "for r in result:\n",
    "   print(r)\n",
    "\n",
    "#### Task 2\n",
    "_list1 = [[2, 3, 7], [4, 6, 7]]\n",
    "_list2 = [[3, 4], [7, 1], [1, 8]]\n",
    "# 1) Numpy mat mul\n",
    "\n",
    "_np_mul = np.matmul(_list1, _list2)\n",
    "print('\\nNumpy mat mul:\\n', _np_mul)\n",
    "\n",
    "# 2) Pythonic way\n",
    "\n",
    "result = [[sum(a*b for a,b in zip(X_row,Y_col)) for Y_col in zip(*_list2)] for X_row in _list1]\n",
    "\n",
    "for r in result:\n",
    "   print(r)"
   ]
  },
  {
   "attachments": {},
   "cell_type": "markdown",
   "id": "2a2b85f7",
   "metadata": {},
   "source": [
    "## Pandas: [Pandas](https://pandas.pydata.org/) [Quickstart](https://pandas.pydata.org/docs/getting_started/intro_tutorials/index.html)"
   ]
  },
  {
   "cell_type": "code",
   "execution_count": null,
   "id": "96752b62",
   "metadata": {},
   "outputs": [],
   "source": [
    "import pandas as pd"
   ]
  },
  {
   "cell_type": "code",
   "execution_count": null,
   "id": "95dc5411",
   "metadata": {},
   "outputs": [],
   "source": [
    "# Download the churn dataset from Kaggle: https://www.kaggle.com/datasets/shubh0799/churn-modelling?resource=download\n",
    "# 1) Use the .csv file and read it via pandas\n",
    "df = pd.read_csv(\"./Churn_Modelling.csv\")\n",
    "\n",
    "\n",
    "# 2) Print the columns of the pandas table\n",
    "list_of_col = list(df.columns)\n",
    "print(list_of_col)\n",
    "\n",
    "# 3) Drop the column customerid\n",
    "df.drop(columns = ['CustomerId'], axis=1)\n",
    "\n",
    "# 4) Print the values for the columns 'Gender', 'Age', 'Tenure', 'Balance' only\n",
    "g_a_t_b = df[['Gender', 'Age', 'Tenure', 'Balance']]\n",
    "print(g_a_t_b.head())\n",
    "\n",
    "# 5) Return only the rows where Geography == 'France' and columns 'Gender', 'Age', 'Tenure', 'Balance'\n",
    "france_only = df.loc[df['Geography'] == 'France', ['Gender', 'Age', 'Tenure', 'Balance']]\n",
    "print(france_only)\n",
    "\n",
    "# 6) Group by the columns 'Geography', and 'Gender' and use the mean function to aggregate the churn rate ('exited' column)\n"
   ]
  },
  {
   "attachments": {},
   "cell_type": "markdown",
   "id": "40eaf39b",
   "metadata": {},
   "source": [
    "## SKlearn: [Scikit-learn](https://scikit-learn.org/stable/) [Quickstart](https://scikit-learn.org/stable/getting_started.html)"
   ]
  },
  {
   "cell_type": "code",
   "execution_count": null,
   "id": "0c865139",
   "metadata": {},
   "outputs": [],
   "source": [
    "# We start the k nearest neighbor algorithm with sklearn\n",
    "from sklearn.neighbors import KNeighborsClassifier"
   ]
  },
  {
   "cell_type": "code",
   "execution_count": null,
   "id": "f120bc8b",
   "metadata": {},
   "outputs": [],
   "source": [
    "# Use the following values and labels to calcualte the kNN\n",
    "X = np.arange(0, 9).reshape(9,1)\n",
    "y = [0, 0, 0, 1, 1, 1, 2, 2, 2]\n",
    "# we know that we have three clusters [0 to 2] has label 0; [3 to 5] has label 1; [6 to 8] has label 2"
   ]
  },
  {
   "cell_type": "code",
   "execution_count": null,
   "id": "41b09567",
   "metadata": {},
   "outputs": [],
   "source": [
    "# Start the KNN algorithm with the values above\n",
    "knn_model = KNeighborsClassifier(n_neighbors = 3, algorithm= 'kd_tree').fit(y)\n"
   ]
  },
  {
   "cell_type": "code",
   "execution_count": null,
   "id": "c3c95e65",
   "metadata": {},
   "outputs": [],
   "source": [
    "# predict the label for value 4\n",
    "'''\n",
    "Ans:\n",
    "pridiction is label 4\n",
    "we can see the pattern that if labels follows the values from the previous pattern\n",
    "'''"
   ]
  },
  {
   "cell_type": "code",
   "execution_count": null,
   "id": "7c7b0860",
   "metadata": {},
   "outputs": [],
   "source": []
  }
 ],
 "metadata": {
  "kernelspec": {
   "display_name": "Python 3 (ipykernel)",
   "language": "python",
   "name": "python3"
  },
  "language_info": {
   "codemirror_mode": {
    "name": "ipython",
    "version": 3
   },
   "file_extension": ".py",
   "mimetype": "text/x-python",
   "name": "python",
   "nbconvert_exporter": "python",
   "pygments_lexer": "ipython3",
   "version": "3.9.13"
  }
 },
 "nbformat": 4,
 "nbformat_minor": 5
}
